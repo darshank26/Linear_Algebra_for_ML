{
  "nbformat": 4,
  "nbformat_minor": 0,
  "metadata": {
    "colab": {
      "provenance": [],
      "authorship_tag": "ABX9TyMSqWbIAdAqwMV2s2QK4+lu",
      "include_colab_link": true
    },
    "kernelspec": {
      "name": "python3",
      "display_name": "Python 3"
    },
    "language_info": {
      "name": "python"
    }
  },
  "cells": [
    {
      "cell_type": "markdown",
      "metadata": {
        "id": "view-in-github",
        "colab_type": "text"
      },
      "source": [
        "<a href=\"https://colab.research.google.com/github/darshank26/Linear_Algebra_for_ML/blob/main/scaler.ipynb\" target=\"_parent\"><img src=\"https://colab.research.google.com/assets/colab-badge.svg\" alt=\"Open In Colab\"/></a>"
      ]
    },
    {
      "cell_type": "markdown",
      "source": [
        "#Scaler in Normal python"
      ],
      "metadata": {
        "id": "DbsJjTn3IpVG"
      }
    },
    {
      "cell_type": "code",
      "execution_count": 6,
      "metadata": {
        "colab": {
          "base_uri": "https://localhost:8080/"
        },
        "id": "dxXT3l93pgl8",
        "outputId": "944626aa-9133-4621-b5f5-7d1d377da2e9"
      },
      "outputs": [
        {
          "output_type": "stream",
          "name": "stdout",
          "text": [
            "15\n",
            "15.0\n"
          ]
        },
        {
          "output_type": "execute_result",
          "data": {
            "text/plain": [
              "float"
            ]
          },
          "metadata": {},
          "execution_count": 6
        }
      ],
      "source": [
        "\n",
        "#int scaler value\n",
        "\n",
        "x = 5\n",
        "\n",
        "type(x)\n",
        "\n",
        "y = 10\n",
        "\n",
        "type(y)\n",
        "\n",
        "z = x + y\n",
        "\n",
        "print(z)\n",
        "\n",
        "type(z)\n",
        "\n",
        "#float scaler value\n",
        "\n",
        "x = 5.0\n",
        "\n",
        "type(x)\n",
        "\n",
        "y = 10\n",
        "\n",
        "type(y)\n",
        "\n",
        "z = x + y\n",
        "\n",
        "print(z)\n",
        "\n",
        "type(z)"
      ]
    },
    {
      "cell_type": "markdown",
      "source": [
        "#Scaler in PyTorch\n"
      ],
      "metadata": {
        "id": "sek4AnQPIu-l"
      }
    },
    {
      "cell_type": "code",
      "source": [
        "#Scaler in PyTorch\n",
        "\n",
        "import torch\n",
        "\n",
        "x_pt = torch.tensor(30)\n",
        "\n",
        "x_pt\n",
        "\n",
        "x_pt.shape\n"
      ],
      "metadata": {
        "colab": {
          "base_uri": "https://localhost:8080/"
        },
        "id": "LKVoGeOrGdGu",
        "outputId": "7e824fee-c4c1-423a-a761-36e14c0bc9f1"
      },
      "execution_count": 10,
      "outputs": [
        {
          "output_type": "execute_result",
          "data": {
            "text/plain": [
              "torch.Size([])"
            ]
          },
          "metadata": {},
          "execution_count": 10
        }
      ]
    },
    {
      "cell_type": "markdown",
      "source": [
        "#Scaler in tensor\n"
      ],
      "metadata": {
        "id": "ZNPX5r2wIxbd"
      }
    },
    {
      "cell_type": "code",
      "source": [
        "#Scaler in tensor\n",
        "\n",
        "import tensorflow as tf\n",
        "\n",
        "x_tf = tf.Variable(40, dtype = tf.int16)\n",
        "\n",
        "x_tf\n",
        "\n",
        "x_tf.shape"
      ],
      "metadata": {
        "colab": {
          "base_uri": "https://localhost:8080/"
        },
        "id": "RZCXk4cCIEx-",
        "outputId": "bd564871-37be-46bc-e1ae-5daa3d4a51bd"
      },
      "execution_count": 12,
      "outputs": [
        {
          "output_type": "execute_result",
          "data": {
            "text/plain": [
              "TensorShape([])"
            ]
          },
          "metadata": {},
          "execution_count": 12
        }
      ]
    }
  ]
}
