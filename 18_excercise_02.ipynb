{
  "nbformat": 4,
  "nbformat_minor": 0,
  "metadata": {
    "colab": {
      "provenance": [],
      "authorship_tag": "ABX9TyPV4AJIxv/doBZTO5qyZlRC",
      "include_colab_link": true
    },
    "kernelspec": {
      "name": "python3",
      "display_name": "Python 3"
    },
    "language_info": {
      "name": "python"
    }
  },
  "cells": [
    {
      "cell_type": "markdown",
      "metadata": {
        "id": "view-in-github",
        "colab_type": "text"
      },
      "source": [
        "<a href=\"https://colab.research.google.com/github/darshank26/Linear_Algebra_for_ML/blob/main/18_excercise_02.ipynb\" target=\"_parent\"><img src=\"https://colab.research.google.com/assets/colab-badge.svg\" alt=\"Open In Colab\"/></a>"
      ]
    },
    {
      "cell_type": "code",
      "source": [
        "#Question one\n",
        "\n",
        "import numpy as np\n",
        "\n",
        "A = np.array([[0,1,2],[3,4,5],[6,7,8]])\n",
        "\n",
        "B = np.array([-1,1,-2])\n",
        "\n",
        "np.dot(A,B)"
      ],
      "metadata": {
        "colab": {
          "base_uri": "https://localhost:8080/"
        },
        "id": "4tA3cNaT1vZl",
        "outputId": "dcbddb59-5ec9-4c8e-e6d2-54d667c5feeb"
      },
      "execution_count": 1,
      "outputs": [
        {
          "output_type": "execute_result",
          "data": {
            "text/plain": [
              "array([ -3,  -9, -15])"
            ]
          },
          "metadata": {},
          "execution_count": 1
        }
      ]
    },
    {
      "cell_type": "code",
      "source": [
        "#Question two\n",
        "\n",
        "import numpy as np\n",
        "\n",
        "A = np.array([[1,0,0],[0,1,0],[0,0,1]])\n",
        "\n",
        "B = np.array([-1,1,-2])\n",
        "\n",
        "np.dot(A,B)"
      ],
      "metadata": {
        "colab": {
          "base_uri": "https://localhost:8080/"
        },
        "id": "zlPHIFsE2L1Q",
        "outputId": "0414b860-21f1-4300-877c-bc4a82d5d039"
      },
      "execution_count": 2,
      "outputs": [
        {
          "output_type": "execute_result",
          "data": {
            "text/plain": [
              "array([-1,  1, -2])"
            ]
          },
          "metadata": {},
          "execution_count": 2
        }
      ]
    },
    {
      "cell_type": "code",
      "source": [
        "#Question three\n",
        "\n",
        "import numpy as np\n",
        "\n",
        "A = np.array([[0,1,2],[3,4,5],[6,7,8]])\n",
        "\n",
        "B = np.array([[-1,0],[1,1],[-2,2]])\n",
        "\n",
        "np.dot(A,B)\n"
      ],
      "metadata": {
        "colab": {
          "base_uri": "https://localhost:8080/"
        },
        "id": "EY7hgWrY2Wog",
        "outputId": "d481e005-074a-4742-a057-fb700ef6f90a"
      },
      "execution_count": 3,
      "outputs": [
        {
          "output_type": "execute_result",
          "data": {
            "text/plain": [
              "array([[ -3,   5],\n",
              "       [ -9,  14],\n",
              "       [-15,  23]])"
            ]
          },
          "metadata": {},
          "execution_count": 3
        }
      ]
    }
  ]
}