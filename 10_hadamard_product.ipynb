{
  "nbformat": 4,
  "nbformat_minor": 0,
  "metadata": {
    "colab": {
      "provenance": [],
      "authorship_tag": "ABX9TyMc2/+pq+JcdOG+Bt0e7KKJ",
      "include_colab_link": true
    },
    "kernelspec": {
      "name": "python3",
      "display_name": "Python 3"
    },
    "language_info": {
      "name": "python"
    }
  },
  "cells": [
    {
      "cell_type": "markdown",
      "metadata": {
        "id": "view-in-github",
        "colab_type": "text"
      },
      "source": [
        "<a href=\"https://colab.research.google.com/github/darshank26/Linear_Algebra_for_ML/blob/main/010_hadamard_product.ipynb\" target=\"_parent\"><img src=\"https://colab.research.google.com/assets/colab-badge.svg\" alt=\"Open In Colab\"/></a>"
      ]
    },
    {
      "cell_type": "markdown",
      "source": [
        "#Hadamard Product\n",
        "\n",
        "the Hadamard product (also known as the element-wise product, entrywise product or Schur product) is a binary operation that takes in two matrices of the same dimensions and returns a matrix of the multiplied corresponding elements.\n",
        "\n",
        "This operation can be thought as a \"naive matrix multiplication\" and is different from the matrix product"
      ],
      "metadata": {
        "id": "xgx43QwdNMyF"
      }
    },
    {
      "cell_type": "markdown",
      "source": [
        "#Hadamard Product using Numpy"
      ],
      "metadata": {
        "id": "4i9SuwZgN8UL"
      }
    },
    {
      "cell_type": "code",
      "execution_count": 1,
      "metadata": {
        "colab": {
          "base_uri": "https://localhost:8080/"
        },
        "id": "rRrhBqiwNGUb",
        "outputId": "d656a182-3422-4f41-e114-d0e6ccc1e016"
      },
      "outputs": [
        {
          "output_type": "execute_result",
          "data": {
            "text/plain": [
              "array([[12, 13, 15],\n",
              "       [10, 20, 12],\n",
              "       [10, 24, 25]])"
            ]
          },
          "metadata": {},
          "execution_count": 1
        }
      ],
      "source": [
        "import numpy as np\n",
        "\n",
        "A = np.array([[12,13,15],[10,20,12],[10,24,25]])\n",
        "\n",
        "A\n"
      ]
    },
    {
      "cell_type": "code",
      "source": [
        "B = np.array([[10,11,20],[20,10,13],[15,20,1]])\n",
        "B"
      ],
      "metadata": {
        "colab": {
          "base_uri": "https://localhost:8080/"
        },
        "id": "YfW9v8NjOVuh",
        "outputId": "051003ea-1128-4a59-d84c-391d04c57016"
      },
      "execution_count": 2,
      "outputs": [
        {
          "output_type": "execute_result",
          "data": {
            "text/plain": [
              "array([[10, 11, 20],\n",
              "       [20, 10, 13],\n",
              "       [15, 20,  1]])"
            ]
          },
          "metadata": {},
          "execution_count": 2
        }
      ]
    },
    {
      "cell_type": "code",
      "source": [
        "A + B"
      ],
      "metadata": {
        "colab": {
          "base_uri": "https://localhost:8080/"
        },
        "id": "0g9v8W4lOXPu",
        "outputId": "31eab0cf-8337-48cc-f631-7a35f3d8c7ec"
      },
      "execution_count": 3,
      "outputs": [
        {
          "output_type": "execute_result",
          "data": {
            "text/plain": [
              "array([[22, 24, 35],\n",
              "       [30, 30, 25],\n",
              "       [25, 44, 26]])"
            ]
          },
          "metadata": {},
          "execution_count": 3
        }
      ]
    },
    {
      "cell_type": "code",
      "source": [
        "A - B"
      ],
      "metadata": {
        "colab": {
          "base_uri": "https://localhost:8080/"
        },
        "id": "i9eVONBZOalL",
        "outputId": "db3c8c54-4185-4b86-d8de-a7065cf6e0d9"
      },
      "execution_count": 4,
      "outputs": [
        {
          "output_type": "execute_result",
          "data": {
            "text/plain": [
              "array([[  2,   2,  -5],\n",
              "       [-10,  10,  -1],\n",
              "       [ -5,   4,  24]])"
            ]
          },
          "metadata": {},
          "execution_count": 4
        }
      ]
    },
    {
      "cell_type": "code",
      "source": [
        "A * B"
      ],
      "metadata": {
        "colab": {
          "base_uri": "https://localhost:8080/"
        },
        "id": "ZuuVRRgbOdK0",
        "outputId": "328619cf-b998-4086-fab0-5788f4122d84"
      },
      "execution_count": 5,
      "outputs": [
        {
          "output_type": "execute_result",
          "data": {
            "text/plain": [
              "array([[120, 143, 300],\n",
              "       [200, 200, 156],\n",
              "       [150, 480,  25]])"
            ]
          },
          "metadata": {},
          "execution_count": 5
        }
      ]
    },
    {
      "cell_type": "code",
      "source": [
        "A + A - B"
      ],
      "metadata": {
        "colab": {
          "base_uri": "https://localhost:8080/"
        },
        "id": "OJFY7ePTOgnI",
        "outputId": "d1393d4f-7072-4be9-de4c-e00a55249329"
      },
      "execution_count": 6,
      "outputs": [
        {
          "output_type": "execute_result",
          "data": {
            "text/plain": [
              "array([[14, 15, 10],\n",
              "       [ 0, 30, 11],\n",
              "       [ 5, 28, 49]])"
            ]
          },
          "metadata": {},
          "execution_count": 6
        }
      ]
    },
    {
      "cell_type": "code",
      "source": [
        "A * B"
      ],
      "metadata": {
        "colab": {
          "base_uri": "https://localhost:8080/"
        },
        "id": "PLw18yLqOuMy",
        "outputId": "6c856ed2-5b66-46c6-bce9-b96630df5e92"
      },
      "execution_count": 7,
      "outputs": [
        {
          "output_type": "execute_result",
          "data": {
            "text/plain": [
              "array([[120, 143, 300],\n",
              "       [200, 200, 156],\n",
              "       [150, 480,  25]])"
            ]
          },
          "metadata": {},
          "execution_count": 7
        }
      ]
    }
  ]
}
