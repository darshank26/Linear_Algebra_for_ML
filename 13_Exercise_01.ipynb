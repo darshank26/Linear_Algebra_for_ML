{
  "nbformat": 4,
  "nbformat_minor": 0,
  "metadata": {
    "colab": {
      "provenance": [],
      "authorship_tag": "ABX9TyMPtGp0JwjGlo/aA4HU5lfK",
      "include_colab_link": true
    },
    "kernelspec": {
      "name": "python3",
      "display_name": "Python 3"
    },
    "language_info": {
      "name": "python"
    }
  },
  "cells": [
    {
      "cell_type": "markdown",
      "metadata": {
        "id": "view-in-github",
        "colab_type": "text"
      },
      "source": [
        "<a href=\"https://colab.research.google.com/github/darshank26/Linear_Algebra_for_ML/blob/main/13_Exercise_01.ipynb\" target=\"_parent\"><img src=\"https://colab.research.google.com/assets/colab-badge.svg\" alt=\"Open In Colab\"/></a>"
      ]
    },
    {
      "cell_type": "markdown",
      "source": [
        "1. What is transpose of yT = [ [42, 4, 7, 99] , [ -99, -3, 17, 22 ] ]"
      ],
      "metadata": {
        "id": "UeU4T-N5gq4r"
      }
    },
    {
      "cell_type": "code",
      "source": [
        "import numpy as np\n",
        "\n",
        "y = np.array([[42, 4, 7, 99] , [ -99, -3, 17, 22 ]] )\n",
        "\n",
        "y"
      ],
      "metadata": {
        "colab": {
          "base_uri": "https://localhost:8080/"
        },
        "id": "KZ228BTwhK-P",
        "outputId": "6aed34e0-f6fe-424f-c6b4-695e50aa471d"
      },
      "execution_count": 2,
      "outputs": [
        {
          "output_type": "execute_result",
          "data": {
            "text/plain": [
              "array([[ 42,   4,   7,  99],\n",
              "       [-99,  -3,  17,  22]])"
            ]
          },
          "metadata": {},
          "execution_count": 2
        }
      ]
    },
    {
      "cell_type": "code",
      "source": [
        "y.T"
      ],
      "metadata": {
        "colab": {
          "base_uri": "https://localhost:8080/"
        },
        "id": "ff6oWcT0hYAL",
        "outputId": "5fd582c4-7415-4ffa-dbc8-5bb9b714b03a"
      },
      "execution_count": 3,
      "outputs": [
        {
          "output_type": "execute_result",
          "data": {
            "text/plain": [
              "array([[ 42, -99],\n",
              "       [  4,  -3],\n",
              "       [  7,  17],\n",
              "       [ 99,  22]])"
            ]
          },
          "metadata": {},
          "execution_count": 3
        }
      ]
    },
    {
      "cell_type": "markdown",
      "source": [
        "2. What is Hadamard product of\n",
        "\n",
        "[ [ 25, 10 ] , [-2 , 1 ] ] . [ [ -1 , 7 ] , [ 10, 8 ] ]"
      ],
      "metadata": {
        "id": "GKN_qbuMhhso"
      }
    },
    {
      "cell_type": "code",
      "source": [
        "import numpy as np\n",
        "\n",
        "x  = np.array([[ [ 25, 10 ] , [-2 , 1 ] ]] )\n",
        "x"
      ],
      "metadata": {
        "colab": {
          "base_uri": "https://localhost:8080/"
        },
        "id": "4k18FZlGh4NM",
        "outputId": "18e3732f-8471-404b-da02-4459e0d3263b"
      },
      "execution_count": 6,
      "outputs": [
        {
          "output_type": "execute_result",
          "data": {
            "text/plain": [
              "array([[[25, 10],\n",
              "        [-2,  1]]])"
            ]
          },
          "metadata": {},
          "execution_count": 6
        }
      ]
    },
    {
      "cell_type": "code",
      "source": [
        "y  = np.array([ [ -1 , 7 ] , [ 10, 8 ] ] )\n",
        "y"
      ],
      "metadata": {
        "colab": {
          "base_uri": "https://localhost:8080/"
        },
        "id": "sPL2EyFPiCBU",
        "outputId": "9475c23f-94cc-421e-a0f1-8e4fc7ae8ad2"
      },
      "execution_count": 5,
      "outputs": [
        {
          "output_type": "execute_result",
          "data": {
            "text/plain": [
              "array([[-1,  7],\n",
              "       [10,  8]])"
            ]
          },
          "metadata": {},
          "execution_count": 5
        }
      ]
    },
    {
      "cell_type": "code",
      "source": [
        "np.multiply(x,y)"
      ],
      "metadata": {
        "colab": {
          "base_uri": "https://localhost:8080/"
        },
        "id": "Wm4zCFQEiLPg",
        "outputId": "dbd1d427-b9b9-4be8-d082-5bb82617df32"
      },
      "execution_count": 8,
      "outputs": [
        {
          "output_type": "execute_result",
          "data": {
            "text/plain": [
              "array([[[-25,  70],\n",
              "        [-20,   8]]])"
            ]
          },
          "metadata": {},
          "execution_count": 8
        }
      ]
    },
    {
      "cell_type": "markdown",
      "source": [
        "3. What is dot product of\n",
        "\n",
        "w = [-1,2,-2]\n",
        "\n",
        "x = [5, 10, 0]"
      ],
      "metadata": {
        "id": "-hP2Jlz2io--"
      }
    },
    {
      "cell_type": "code",
      "source": [
        "import numpy as np\n",
        "\n",
        "w  = np.array([-1,2,-1] )\n",
        "w"
      ],
      "metadata": {
        "colab": {
          "base_uri": "https://localhost:8080/"
        },
        "id": "E6wSw-k5i3j6",
        "outputId": "6d33a0f5-8768-465b-cb0b-ca8a644f8eef"
      },
      "execution_count": 9,
      "outputs": [
        {
          "output_type": "execute_result",
          "data": {
            "text/plain": [
              "array([-1,  2, -1])"
            ]
          },
          "metadata": {},
          "execution_count": 9
        }
      ]
    },
    {
      "cell_type": "code",
      "source": [
        "x  = np.array([5,10,0] )\n",
        "x"
      ],
      "metadata": {
        "colab": {
          "base_uri": "https://localhost:8080/"
        },
        "id": "Ix7LADb9jBCP",
        "outputId": "2c36176e-8752-4285-a01d-b1013c4ae600"
      },
      "execution_count": 10,
      "outputs": [
        {
          "output_type": "execute_result",
          "data": {
            "text/plain": [
              "array([ 5, 10,  0])"
            ]
          },
          "metadata": {},
          "execution_count": 10
        }
      ]
    },
    {
      "cell_type": "code",
      "source": [
        "np.dot(w,x)"
      ],
      "metadata": {
        "colab": {
          "base_uri": "https://localhost:8080/"
        },
        "id": "F0QHugUUjGSC",
        "outputId": "bd43f7c8-a7ba-4f9a-9499-dfeea26467db"
      },
      "execution_count": 11,
      "outputs": [
        {
          "output_type": "execute_result",
          "data": {
            "text/plain": [
              "15"
            ]
          },
          "metadata": {},
          "execution_count": 11
        }
      ]
    }
  ]
}