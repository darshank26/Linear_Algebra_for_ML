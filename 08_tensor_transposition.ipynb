{
  "nbformat": 4,
  "nbformat_minor": 0,
  "metadata": {
    "colab": {
      "provenance": [],
      "authorship_tag": "ABX9TyOFbktJxsPdtpmLnggeiOIg",
      "include_colab_link": true
    },
    "kernelspec": {
      "name": "python3",
      "display_name": "Python 3"
    },
    "language_info": {
      "name": "python"
    }
  },
  "cells": [
    {
      "cell_type": "markdown",
      "metadata": {
        "id": "view-in-github",
        "colab_type": "text"
      },
      "source": [
        "<a href=\"https://colab.research.google.com/github/darshank26/Linear_Algebra_for_ML/blob/main/08_tensor_transposition.ipynb\" target=\"_parent\"><img src=\"https://colab.research.google.com/assets/colab-badge.svg\" alt=\"Open In Colab\"/></a>"
      ]
    },
    {
      "cell_type": "markdown",
      "source": [
        "#Tensor Transposition\n",
        "\n"
      ],
      "metadata": {
        "id": "Db3R0WpX3acJ"
      }
    },
    {
      "cell_type": "markdown",
      "source": [
        "#Transpose in Numpy"
      ],
      "metadata": {
        "id": "1X_mQT-q43Zr"
      }
    },
    {
      "cell_type": "code",
      "execution_count": 1,
      "metadata": {
        "id": "xs5d_ejZ3Rnu"
      },
      "outputs": [],
      "source": [
        "import numpy as np"
      ]
    },
    {
      "cell_type": "code",
      "source": [
        "x = np.array([[20,13,14,1],[90,20,40,4],[13,18,20,0]])\n",
        "\n",
        "x"
      ],
      "metadata": {
        "colab": {
          "base_uri": "https://localhost:8080/"
        },
        "id": "2vueALx03kuz",
        "outputId": "18331970-f8fa-4673-915d-3abfb29e6c7b"
      },
      "execution_count": 7,
      "outputs": [
        {
          "output_type": "execute_result",
          "data": {
            "text/plain": [
              "array([[20, 13, 14,  1],\n",
              "       [90, 20, 40,  4],\n",
              "       [13, 18, 20,  0]])"
            ]
          },
          "metadata": {},
          "execution_count": 7
        }
      ]
    },
    {
      "cell_type": "code",
      "source": [
        "x.shape"
      ],
      "metadata": {
        "colab": {
          "base_uri": "https://localhost:8080/"
        },
        "id": "l9pBdtIm4DC9",
        "outputId": "99f8774b-4421-41b9-c323-ef0094c262e4"
      },
      "execution_count": 9,
      "outputs": [
        {
          "output_type": "execute_result",
          "data": {
            "text/plain": [
              "(3, 4)"
            ]
          },
          "metadata": {},
          "execution_count": 9
        }
      ]
    },
    {
      "cell_type": "code",
      "source": [
        "x.T"
      ],
      "metadata": {
        "colab": {
          "base_uri": "https://localhost:8080/"
        },
        "id": "BFh0Vf4732GA",
        "outputId": "9dd1bdc1-a91b-4d5d-9ea2-5147d6714c63"
      },
      "execution_count": 10,
      "outputs": [
        {
          "output_type": "execute_result",
          "data": {
            "text/plain": [
              "array([[20, 90, 13],\n",
              "       [13, 20, 18],\n",
              "       [14, 40, 20],\n",
              "       [ 1,  4,  0]])"
            ]
          },
          "metadata": {},
          "execution_count": 10
        }
      ]
    },
    {
      "cell_type": "code",
      "source": [
        "(x.T).shape"
      ],
      "metadata": {
        "colab": {
          "base_uri": "https://localhost:8080/"
        },
        "id": "e0rrrJN14F9K",
        "outputId": "0885b86a-d633-4b21-f838-2d9375e2dcda"
      },
      "execution_count": 11,
      "outputs": [
        {
          "output_type": "execute_result",
          "data": {
            "text/plain": [
              "(4, 3)"
            ]
          },
          "metadata": {},
          "execution_count": 11
        }
      ]
    },
    {
      "cell_type": "markdown",
      "source": [
        "#Transpose in Pytorch"
      ],
      "metadata": {
        "id": "U5DNWf7547LU"
      }
    },
    {
      "cell_type": "code",
      "source": [
        "import torch as py"
      ],
      "metadata": {
        "id": "G2HKppdn4KL_"
      },
      "execution_count": 15,
      "outputs": []
    },
    {
      "cell_type": "code",
      "source": [
        "x = py.tensor([[20,13,14,1],[90,20,40,4],[13,18,20,0]])\n",
        "\n",
        "x"
      ],
      "metadata": {
        "colab": {
          "base_uri": "https://localhost:8080/"
        },
        "id": "EJH7KPXm4Yx1",
        "outputId": "575d42a3-8a42-4398-edc3-0d42b1c33694"
      },
      "execution_count": 16,
      "outputs": [
        {
          "output_type": "execute_result",
          "data": {
            "text/plain": [
              "tensor([[20, 13, 14,  1],\n",
              "        [90, 20, 40,  4],\n",
              "        [13, 18, 20,  0]])"
            ]
          },
          "metadata": {},
          "execution_count": 16
        }
      ]
    },
    {
      "cell_type": "code",
      "source": [
        "x.T"
      ],
      "metadata": {
        "colab": {
          "base_uri": "https://localhost:8080/"
        },
        "id": "_X4xPPv_4ivd",
        "outputId": "0e6fa318-db91-4cb8-8252-e3bd8f1004e2"
      },
      "execution_count": 17,
      "outputs": [
        {
          "output_type": "execute_result",
          "data": {
            "text/plain": [
              "tensor([[20, 90, 13],\n",
              "        [13, 20, 18],\n",
              "        [14, 40, 20],\n",
              "        [ 1,  4,  0]])"
            ]
          },
          "metadata": {},
          "execution_count": 17
        }
      ]
    },
    {
      "cell_type": "markdown",
      "source": [
        "#Transpose in Tensorflow"
      ],
      "metadata": {
        "id": "J-3-Whe249xE"
      }
    },
    {
      "cell_type": "code",
      "source": [
        "import tensorflow as tf"
      ],
      "metadata": {
        "id": "SswOrJd04m7z"
      },
      "execution_count": 18,
      "outputs": []
    },
    {
      "cell_type": "code",
      "source": [
        "x = tf.Variable([[20,13,14,1],[90,20,40,4],[13,18,20,0]])\n",
        "\n",
        "x"
      ],
      "metadata": {
        "colab": {
          "base_uri": "https://localhost:8080/"
        },
        "id": "AuzsqRQ-4tL7",
        "outputId": "80a405a0-3564-43f8-f736-fc4e30cc3e95"
      },
      "execution_count": 19,
      "outputs": [
        {
          "output_type": "execute_result",
          "data": {
            "text/plain": [
              "<tf.Variable 'Variable:0' shape=(3, 4) dtype=int32, numpy=\n",
              "array([[20, 13, 14,  1],\n",
              "       [90, 20, 40,  4],\n",
              "       [13, 18, 20,  0]], dtype=int32)>"
            ]
          },
          "metadata": {},
          "execution_count": 19
        }
      ]
    },
    {
      "cell_type": "code",
      "source": [
        "tf.transpose(x)"
      ],
      "metadata": {
        "colab": {
          "base_uri": "https://localhost:8080/"
        },
        "id": "F4wInm9f4x-1",
        "outputId": "c1e5044f-3c0b-4ff0-d640-75dae5fd922f"
      },
      "execution_count": 20,
      "outputs": [
        {
          "output_type": "execute_result",
          "data": {
            "text/plain": [
              "<tf.Tensor: shape=(4, 3), dtype=int32, numpy=\n",
              "array([[20, 90, 13],\n",
              "       [13, 20, 18],\n",
              "       [14, 40, 20],\n",
              "       [ 1,  4,  0]], dtype=int32)>"
            ]
          },
          "metadata": {},
          "execution_count": 20
        }
      ]
    }
  ]
}