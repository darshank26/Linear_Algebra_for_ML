{
  "nbformat": 4,
  "nbformat_minor": 0,
  "metadata": {
    "colab": {
      "provenance": [],
      "authorship_tag": "ABX9TyPy/1zr5eiCew2PXVzhXJkO",
      "include_colab_link": true
    },
    "kernelspec": {
      "name": "python3",
      "display_name": "Python 3"
    },
    "language_info": {
      "name": "python"
    }
  },
  "cells": [
    {
      "cell_type": "markdown",
      "metadata": {
        "id": "view-in-github",
        "colab_type": "text"
      },
      "source": [
        "<a href=\"https://colab.research.google.com/github/darshank26/Linear_Algebra_for_ML/blob/main/09_basic_tensor_arithmetic.ipynb\" target=\"_parent\"><img src=\"https://colab.research.google.com/assets/colab-badge.svg\" alt=\"Open In Colab\"/></a>"
      ]
    },
    {
      "cell_type": "markdown",
      "source": [
        "#Matrix arithmetic using numpy"
      ],
      "metadata": {
        "id": "k4j2-v_tK06h"
      }
    },
    {
      "cell_type": "code",
      "execution_count": 1,
      "metadata": {
        "colab": {
          "base_uri": "https://localhost:8080/"
        },
        "id": "-9r3SvBDBFyU",
        "outputId": "b993481a-7f20-4f3b-cae5-1208f071841b"
      },
      "outputs": [
        {
          "output_type": "execute_result",
          "data": {
            "text/plain": [
              "array([[12, 14, 10],\n",
              "       [20, 14, 15],\n",
              "       [30, 40, 15]])"
            ]
          },
          "metadata": {},
          "execution_count": 1
        }
      ],
      "source": [
        "import numpy as np\n",
        "\n",
        "x = np.array([[12,14,10],[20,14,15],[30,40,15]])\n",
        "\n",
        "x"
      ]
    },
    {
      "cell_type": "code",
      "source": [
        "x*3"
      ],
      "metadata": {
        "colab": {
          "base_uri": "https://localhost:8080/"
        },
        "id": "G2fpHqlPLC44",
        "outputId": "5b110f5e-0727-4602-ace6-ac853de36fee"
      },
      "execution_count": 2,
      "outputs": [
        {
          "output_type": "execute_result",
          "data": {
            "text/plain": [
              "array([[ 36,  42,  30],\n",
              "       [ 60,  42,  45],\n",
              "       [ 90, 120,  45]])"
            ]
          },
          "metadata": {},
          "execution_count": 2
        }
      ]
    },
    {
      "cell_type": "code",
      "source": [
        "x+1"
      ],
      "metadata": {
        "colab": {
          "base_uri": "https://localhost:8080/"
        },
        "id": "dENZZBvKLKhp",
        "outputId": "0231491b-03d5-4829-b4a4-d3f6b5b4cedb"
      },
      "execution_count": 3,
      "outputs": [
        {
          "output_type": "execute_result",
          "data": {
            "text/plain": [
              "array([[22, 24, 20],\n",
              "       [30, 24, 25],\n",
              "       [40, 50, 25]])"
            ]
          },
          "metadata": {},
          "execution_count": 3
        }
      ]
    },
    {
      "cell_type": "code",
      "source": [
        "x**3"
      ],
      "metadata": {
        "colab": {
          "base_uri": "https://localhost:8080/"
        },
        "id": "wKtUl8FiLOaW",
        "outputId": "e397ea9d-bf9b-4308-a700-cec5c0ce185b"
      },
      "execution_count": 4,
      "outputs": [
        {
          "output_type": "execute_result",
          "data": {
            "text/plain": [
              "array([[ 1728,  2744,  1000],\n",
              "       [ 8000,  2744,  3375],\n",
              "       [27000, 64000,  3375]])"
            ]
          },
          "metadata": {},
          "execution_count": 4
        }
      ]
    },
    {
      "cell_type": "code",
      "source": [
        "x/10"
      ],
      "metadata": {
        "colab": {
          "base_uri": "https://localhost:8080/"
        },
        "id": "OvoKuSdGLStz",
        "outputId": "fa3760b4-8522-4630-b305-dcef8afd2b23"
      },
      "execution_count": 5,
      "outputs": [
        {
          "output_type": "execute_result",
          "data": {
            "text/plain": [
              "array([[1.2, 1.4, 1. ],\n",
              "       [2. , 1.4, 1.5],\n",
              "       [3. , 4. , 1.5]])"
            ]
          },
          "metadata": {},
          "execution_count": 5
        }
      ]
    },
    {
      "cell_type": "code",
      "source": [
        "x%10"
      ],
      "metadata": {
        "colab": {
          "base_uri": "https://localhost:8080/"
        },
        "id": "4Q5GjNYPLU7e",
        "outputId": "6fdc9518-b7e0-48e7-f599-a81989d71754"
      },
      "execution_count": 6,
      "outputs": [
        {
          "output_type": "execute_result",
          "data": {
            "text/plain": [
              "array([[2, 4, 0],\n",
              "       [0, 4, 5],\n",
              "       [0, 0, 5]])"
            ]
          },
          "metadata": {},
          "execution_count": 6
        }
      ]
    },
    {
      "cell_type": "markdown",
      "source": [
        "#Matrix arithmetic using pytorch"
      ],
      "metadata": {
        "id": "fMFbSPmnLfMz"
      }
    },
    {
      "cell_type": "code",
      "source": [
        "import torch as py\n",
        "\n",
        "x = py.tensor([[12,14,10],[20,14,15],[30,40,15]])\n",
        "\n",
        "x"
      ],
      "metadata": {
        "colab": {
          "base_uri": "https://localhost:8080/"
        },
        "id": "CkQWx9pHLj5l",
        "outputId": "932072b7-0cf5-4327-c030-af15803d594c"
      },
      "execution_count": 7,
      "outputs": [
        {
          "output_type": "execute_result",
          "data": {
            "text/plain": [
              "tensor([[12, 14, 10],\n",
              "        [20, 14, 15],\n",
              "        [30, 40, 15]])"
            ]
          },
          "metadata": {},
          "execution_count": 7
        }
      ]
    },
    {
      "cell_type": "code",
      "source": [
        "x*10"
      ],
      "metadata": {
        "colab": {
          "base_uri": "https://localhost:8080/"
        },
        "id": "gC1oMew5LrW5",
        "outputId": "7d1973f7-e037-494a-fc30-585cc84856e4"
      },
      "execution_count": 8,
      "outputs": [
        {
          "output_type": "execute_result",
          "data": {
            "text/plain": [
              "tensor([[120, 140, 100],\n",
              "        [200, 140, 150],\n",
              "        [300, 400, 150]])"
            ]
          },
          "metadata": {},
          "execution_count": 8
        }
      ]
    },
    {
      "cell_type": "code",
      "source": [
        "x+20"
      ],
      "metadata": {
        "colab": {
          "base_uri": "https://localhost:8080/"
        },
        "id": "XISgGGgVLuFR",
        "outputId": "240c18fe-8938-41bc-a327-c142ff306b28"
      },
      "execution_count": 9,
      "outputs": [
        {
          "output_type": "execute_result",
          "data": {
            "text/plain": [
              "tensor([[32, 34, 30],\n",
              "        [40, 34, 35],\n",
              "        [50, 60, 35]])"
            ]
          },
          "metadata": {},
          "execution_count": 9
        }
      ]
    },
    {
      "cell_type": "code",
      "source": [
        "x**4"
      ],
      "metadata": {
        "colab": {
          "base_uri": "https://localhost:8080/"
        },
        "id": "tznQ1a9kLwZA",
        "outputId": "295b317e-08b5-41bb-e246-aff5fb3074b4"
      },
      "execution_count": 10,
      "outputs": [
        {
          "output_type": "execute_result",
          "data": {
            "text/plain": [
              "tensor([[  20736,   38416,   10000],\n",
              "        [ 160000,   38416,   50625],\n",
              "        [ 810000, 2560000,   50625]])"
            ]
          },
          "metadata": {},
          "execution_count": 10
        }
      ]
    },
    {
      "cell_type": "code",
      "source": [
        "x/12"
      ],
      "metadata": {
        "colab": {
          "base_uri": "https://localhost:8080/"
        },
        "id": "hao7OFgzLyWz",
        "outputId": "81a478cc-d45f-44f9-dfc4-460e4fbe56f2"
      },
      "execution_count": 11,
      "outputs": [
        {
          "output_type": "execute_result",
          "data": {
            "text/plain": [
              "tensor([[1.0000, 1.1667, 0.8333],\n",
              "        [1.6667, 1.1667, 1.2500],\n",
              "        [2.5000, 3.3333, 1.2500]])"
            ]
          },
          "metadata": {},
          "execution_count": 11
        }
      ]
    },
    {
      "cell_type": "markdown",
      "source": [
        "#Matrix arithmetic using Tensorflow"
      ],
      "metadata": {
        "id": "8iNhtC2bL_B_"
      }
    },
    {
      "cell_type": "code",
      "source": [
        "import tensorflow as tf\n",
        "\n",
        "x = tf.Variable([[12,14,10],[20,14,15],[30,40,15]])\n",
        "\n",
        "x"
      ],
      "metadata": {
        "colab": {
          "base_uri": "https://localhost:8080/"
        },
        "id": "Ui4OKshXMBr0",
        "outputId": "dbe89b08-5b9d-4c4f-b166-9429f8f0f66e"
      },
      "execution_count": 12,
      "outputs": [
        {
          "output_type": "execute_result",
          "data": {
            "text/plain": [
              "<tf.Variable 'Variable:0' shape=(3, 3) dtype=int32, numpy=\n",
              "array([[12, 14, 10],\n",
              "       [20, 14, 15],\n",
              "       [30, 40, 15]], dtype=int32)>"
            ]
          },
          "metadata": {},
          "execution_count": 12
        }
      ]
    },
    {
      "cell_type": "code",
      "source": [
        "x*10"
      ],
      "metadata": {
        "colab": {
          "base_uri": "https://localhost:8080/"
        },
        "id": "wHieGVDzMI3o",
        "outputId": "d8c28986-9d64-429a-bcdb-cfe0b2910f37"
      },
      "execution_count": 13,
      "outputs": [
        {
          "output_type": "execute_result",
          "data": {
            "text/plain": [
              "<tf.Tensor: shape=(3, 3), dtype=int32, numpy=\n",
              "array([[120, 140, 100],\n",
              "       [200, 140, 150],\n",
              "       [300, 400, 150]], dtype=int32)>"
            ]
          },
          "metadata": {},
          "execution_count": 13
        }
      ]
    },
    {
      "cell_type": "code",
      "source": [
        "x+100"
      ],
      "metadata": {
        "colab": {
          "base_uri": "https://localhost:8080/"
        },
        "id": "eOGA1eUPMLUF",
        "outputId": "870e9792-0b1d-4019-be07-6b6129719b63"
      },
      "execution_count": 14,
      "outputs": [
        {
          "output_type": "execute_result",
          "data": {
            "text/plain": [
              "<tf.Tensor: shape=(3, 3), dtype=int32, numpy=\n",
              "array([[112, 114, 110],\n",
              "       [120, 114, 115],\n",
              "       [130, 140, 115]], dtype=int32)>"
            ]
          },
          "metadata": {},
          "execution_count": 14
        }
      ]
    },
    {
      "cell_type": "code",
      "source": [
        "x-12"
      ],
      "metadata": {
        "colab": {
          "base_uri": "https://localhost:8080/"
        },
        "id": "2LqohlXFMOGK",
        "outputId": "d10fa0b4-9494-4b19-da41-dcd177461ef9"
      },
      "execution_count": 15,
      "outputs": [
        {
          "output_type": "execute_result",
          "data": {
            "text/plain": [
              "<tf.Tensor: shape=(3, 3), dtype=int32, numpy=\n",
              "array([[ 0,  2, -2],\n",
              "       [ 8,  2,  3],\n",
              "       [18, 28,  3]], dtype=int32)>"
            ]
          },
          "metadata": {},
          "execution_count": 15
        }
      ]
    },
    {
      "cell_type": "code",
      "source": [
        "x**2"
      ],
      "metadata": {
        "colab": {
          "base_uri": "https://localhost:8080/"
        },
        "id": "aW-NwGtbMQxJ",
        "outputId": "193b59bf-789c-4ef6-9496-3c12a6ce0a2d"
      },
      "execution_count": 16,
      "outputs": [
        {
          "output_type": "execute_result",
          "data": {
            "text/plain": [
              "<tf.Tensor: shape=(3, 3), dtype=int32, numpy=\n",
              "array([[ 144,  196,  100],\n",
              "       [ 400,  196,  225],\n",
              "       [ 900, 1600,  225]], dtype=int32)>"
            ]
          },
          "metadata": {},
          "execution_count": 16
        }
      ]
    },
    {
      "cell_type": "code",
      "source": [
        "x/8"
      ],
      "metadata": {
        "colab": {
          "base_uri": "https://localhost:8080/"
        },
        "id": "tk0xptlmMS08",
        "outputId": "7b535801-b34d-4b64-fc15-5aad22293249"
      },
      "execution_count": 17,
      "outputs": [
        {
          "output_type": "execute_result",
          "data": {
            "text/plain": [
              "<tf.Tensor: shape=(3, 3), dtype=float64, numpy=\n",
              "array([[1.5  , 1.75 , 1.25 ],\n",
              "       [2.5  , 1.75 , 1.875],\n",
              "       [3.75 , 5.   , 1.875]])>"
            ]
          },
          "metadata": {},
          "execution_count": 17
        }
      ]
    }
  ]
}