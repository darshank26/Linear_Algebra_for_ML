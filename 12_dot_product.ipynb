{
  "nbformat": 4,
  "nbformat_minor": 0,
  "metadata": {
    "colab": {
      "provenance": [],
      "authorship_tag": "ABX9TyMfUFjrhXbE0anK69mE2Xra",
      "include_colab_link": true
    },
    "kernelspec": {
      "name": "python3",
      "display_name": "Python 3"
    },
    "language_info": {
      "name": "python"
    }
  },
  "cells": [
    {
      "cell_type": "markdown",
      "metadata": {
        "id": "view-in-github",
        "colab_type": "text"
      },
      "source": [
        "<a href=\"https://colab.research.google.com/github/darshank26/Linear_Algebra_for_ML/blob/main/12_dot_product.ipynb\" target=\"_parent\"><img src=\"https://colab.research.google.com/assets/colab-badge.svg\" alt=\"Open In Colab\"/></a>"
      ]
    },
    {
      "cell_type": "markdown",
      "source": [
        "#Dot product of Tensors\n",
        "\n",
        "if we have a two vectors say x and y then we can calculate the doct product of the two vector using x.y notation"
      ],
      "metadata": {
        "id": "ZSjopLigUfmz"
      }
    },
    {
      "cell_type": "markdown",
      "source": [
        "#Using numpy"
      ],
      "metadata": {
        "id": "CMKGT_2OVC7m"
      }
    },
    {
      "cell_type": "code",
      "execution_count": 5,
      "metadata": {
        "colab": {
          "base_uri": "https://localhost:8080/"
        },
        "id": "8U0SxI0-Ubm2",
        "outputId": "c1947f7a-4b9b-4545-cc2c-4deb07af4f33"
      },
      "outputs": [
        {
          "output_type": "execute_result",
          "data": {
            "text/plain": [
              "12"
            ]
          },
          "metadata": {},
          "execution_count": 5
        }
      ],
      "source": [
        "# dot product using one d array\n",
        "\n",
        "import numpy as np\n",
        "\n",
        "A = np.array([1,2,3])\n",
        "\n",
        "B = np.array([2,2,2])\n",
        "\n",
        "\n",
        "np.dot(A,B)"
      ]
    },
    {
      "cell_type": "code",
      "source": [
        "# dot product using 2 d array\n",
        "\n",
        "import numpy as np\n",
        "\n",
        "A = np.array([[1,2,3],[4,5,6]])\n",
        "\n",
        "B = np.array([[2,2,2],[3,3,3]])\n",
        "\n",
        "# make a transposition of vector B for dot product\n",
        "\n",
        "A.shape"
      ],
      "metadata": {
        "colab": {
          "base_uri": "https://localhost:8080/"
        },
        "id": "rc3XtHibWkdO",
        "outputId": "d0c941bd-2e5b-4cfc-97b0-eb2ce829e1f3"
      },
      "execution_count": 11,
      "outputs": [
        {
          "output_type": "execute_result",
          "data": {
            "text/plain": [
              "(2, 3)"
            ]
          },
          "metadata": {},
          "execution_count": 11
        }
      ]
    },
    {
      "cell_type": "code",
      "source": [
        "(B.T).shape"
      ],
      "metadata": {
        "colab": {
          "base_uri": "https://localhost:8080/"
        },
        "id": "d0kmj5Z_XJ1I",
        "outputId": "6efaf632-4547-498e-ad82-8ef5e77f7914"
      },
      "execution_count": 12,
      "outputs": [
        {
          "output_type": "execute_result",
          "data": {
            "text/plain": [
              "(3, 2)"
            ]
          },
          "metadata": {},
          "execution_count": 12
        }
      ]
    },
    {
      "cell_type": "code",
      "source": [
        "np.dot(A,B.T)"
      ],
      "metadata": {
        "colab": {
          "base_uri": "https://localhost:8080/"
        },
        "id": "m2TJasVyXMG4",
        "outputId": "9195678a-e3af-4fb9-ea7b-12f67b61d636"
      },
      "execution_count": 13,
      "outputs": [
        {
          "output_type": "execute_result",
          "data": {
            "text/plain": [
              "array([[12, 18],\n",
              "       [30, 45]])"
            ]
          },
          "metadata": {},
          "execution_count": 13
        }
      ]
    },
    {
      "cell_type": "markdown",
      "source": [
        "#Using Pytorch"
      ],
      "metadata": {
        "id": "cAN7tTVrXdtG"
      }
    },
    {
      "cell_type": "code",
      "source": [
        "# dot product using one d array\n",
        "\n",
        "import torch as py\n",
        "\n",
        "A = py.tensor([1,2,3])\n",
        "\n",
        "B = py.tensor([2,2,2])\n",
        "\n",
        "\n",
        "py.dot(A,B)"
      ],
      "metadata": {
        "colab": {
          "base_uri": "https://localhost:8080/"
        },
        "id": "kFDGjk_QXhiq",
        "outputId": "4a227c0e-bfe9-4d4c-ed1b-8525aad8daeb"
      },
      "execution_count": 14,
      "outputs": [
        {
          "output_type": "execute_result",
          "data": {
            "text/plain": [
              "tensor(12)"
            ]
          },
          "metadata": {},
          "execution_count": 14
        }
      ]
    },
    {
      "cell_type": "code",
      "source": [
        "# dot product using 2 d array\n",
        "\n",
        "import torch as py\n",
        "\n",
        "A = py.tensor([[1,2,3],[4,5,6]])\n",
        "\n",
        "B = py.tensor([[2,2,2],[3,3,3]])\n",
        "\n",
        "# make a transposition of vector B for dot product\n",
        "\n",
        "A.shape"
      ],
      "metadata": {
        "colab": {
          "base_uri": "https://localhost:8080/"
        },
        "id": "NljERKtmX3A-",
        "outputId": "0ed0ef98-94e4-41a5-c372-b0a44a100195"
      },
      "execution_count": 29,
      "outputs": [
        {
          "output_type": "execute_result",
          "data": {
            "text/plain": [
              "torch.Size([2, 3])"
            ]
          },
          "metadata": {},
          "execution_count": 29
        }
      ]
    },
    {
      "cell_type": "code",
      "source": [
        "(B.T).shape"
      ],
      "metadata": {
        "colab": {
          "base_uri": "https://localhost:8080/"
        },
        "id": "zmXj75dxX9ze",
        "outputId": "fd562d6e-c933-4ed3-8a5a-1c2634578403"
      },
      "execution_count": 30,
      "outputs": [
        {
          "output_type": "execute_result",
          "data": {
            "text/plain": [
              "torch.Size([3, 2])"
            ]
          },
          "metadata": {},
          "execution_count": 30
        }
      ]
    },
    {
      "cell_type": "code",
      "source": [
        "py.dot(A,(B.T))"
      ],
      "metadata": {
        "colab": {
          "base_uri": "https://localhost:8080/",
          "height": 179
        },
        "id": "u4xxGsIwX_8z",
        "outputId": "08965505-f0a9-42f4-dd5d-cced4db038a9"
      },
      "execution_count": 18,
      "outputs": [
        {
          "output_type": "error",
          "ename": "RuntimeError",
          "evalue": "ignored",
          "traceback": [
            "\u001b[0;31m---------------------------------------------------------------------------\u001b[0m",
            "\u001b[0;31mRuntimeError\u001b[0m                              Traceback (most recent call last)",
            "\u001b[0;32m<ipython-input-18-5d28778b1d2f>\u001b[0m in \u001b[0;36m<cell line: 1>\u001b[0;34m()\u001b[0m\n\u001b[0;32m----> 1\u001b[0;31m \u001b[0mpy\u001b[0m\u001b[0;34m.\u001b[0m\u001b[0mdot\u001b[0m\u001b[0;34m(\u001b[0m\u001b[0mA\u001b[0m\u001b[0;34m,\u001b[0m\u001b[0;34m(\u001b[0m\u001b[0mB\u001b[0m\u001b[0;34m.\u001b[0m\u001b[0mT\u001b[0m\u001b[0;34m)\u001b[0m\u001b[0;34m)\u001b[0m\u001b[0;34m\u001b[0m\u001b[0;34m\u001b[0m\u001b[0m\n\u001b[0m",
            "\u001b[0;31mRuntimeError\u001b[0m: 1D tensors expected, but got 2D and 2D tensors"
          ]
        }
      ]
    },
    {
      "cell_type": "code",
      "source": [
        "py.matmul(A, (B.T))\n"
      ],
      "metadata": {
        "colab": {
          "base_uri": "https://localhost:8080/"
        },
        "id": "L-MU47bjYUvL",
        "outputId": "7bb9a0bc-400b-4316-d84c-bfb1fa87e926"
      },
      "execution_count": 33,
      "outputs": [
        {
          "output_type": "execute_result",
          "data": {
            "text/plain": [
              "tensor([[12, 18],\n",
              "        [30, 45]])"
            ]
          },
          "metadata": {},
          "execution_count": 33
        }
      ]
    },
    {
      "cell_type": "markdown",
      "source": [
        "#Using tensorflow"
      ],
      "metadata": {
        "id": "3A6WZVZDYmul"
      }
    },
    {
      "cell_type": "code",
      "source": [
        "# dot product using one d array\n",
        "\n",
        "import tensorflow as tf\n",
        "\n",
        "A = tf.Variable([1,2,3])\n",
        "\n",
        "B = tf.Variable([2,2,2])\n",
        "\n",
        "\n",
        "tf.reduce_sum(tf.multiply(A,B))"
      ],
      "metadata": {
        "colab": {
          "base_uri": "https://localhost:8080/"
        },
        "id": "YsC4r6VlYp7L",
        "outputId": "3cd76fc9-5b5d-4750-f9b7-cd9b575acb54"
      },
      "execution_count": 22,
      "outputs": [
        {
          "output_type": "execute_result",
          "data": {
            "text/plain": [
              "<tf.Tensor: shape=(), dtype=int32, numpy=12>"
            ]
          },
          "metadata": {},
          "execution_count": 22
        }
      ]
    },
    {
      "cell_type": "code",
      "source": [
        "# dot product using 2 d array\n",
        "\n",
        "import tensorflow as tf\n",
        "\n",
        "A = tf.Variable([[1,2,3],[4,5,6]])\n",
        "\n",
        "B = tf.Variable([[2,2,2],[3,3,3]])\n",
        "\n",
        "# make a transposition of vector B for dot product\n",
        "\n",
        "A.shape"
      ],
      "metadata": {
        "colab": {
          "base_uri": "https://localhost:8080/"
        },
        "id": "OcirZ2q0aXMo",
        "outputId": "3c05d968-c8cb-40a7-e885-4d566f799f9e"
      },
      "execution_count": 23,
      "outputs": [
        {
          "output_type": "execute_result",
          "data": {
            "text/plain": [
              "TensorShape([2, 3])"
            ]
          },
          "metadata": {},
          "execution_count": 23
        }
      ]
    },
    {
      "cell_type": "code",
      "source": [
        "(tf.transpose(B)).shape"
      ],
      "metadata": {
        "colab": {
          "base_uri": "https://localhost:8080/"
        },
        "id": "P06_UWMUad6M",
        "outputId": "377e9ee6-2e3e-4b4c-be08-85e603d3e412"
      },
      "execution_count": 25,
      "outputs": [
        {
          "output_type": "execute_result",
          "data": {
            "text/plain": [
              "TensorShape([3, 2])"
            ]
          },
          "metadata": {},
          "execution_count": 25
        }
      ]
    },
    {
      "cell_type": "code",
      "source": [
        "tf.reduce_sum(tf.multiply(A,B))"
      ],
      "metadata": {
        "colab": {
          "base_uri": "https://localhost:8080/"
        },
        "id": "OPmeNM8basCm",
        "outputId": "533743b9-6ed7-4f66-ea3c-0d980bfb993b"
      },
      "execution_count": 26,
      "outputs": [
        {
          "output_type": "execute_result",
          "data": {
            "text/plain": [
              "<tf.Tensor: shape=(), dtype=int32, numpy=57>"
            ]
          },
          "metadata": {},
          "execution_count": 26
        }
      ]
    }
  ]
}