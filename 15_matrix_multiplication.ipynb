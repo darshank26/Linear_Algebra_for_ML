{
  "nbformat": 4,
  "nbformat_minor": 0,
  "metadata": {
    "colab": {
      "provenance": [],
      "authorship_tag": "ABX9TyMsjVN+bAoNO715+RbBX2Im",
      "include_colab_link": true
    },
    "kernelspec": {
      "name": "python3",
      "display_name": "Python 3"
    },
    "language_info": {
      "name": "python"
    }
  },
  "cells": [
    {
      "cell_type": "markdown",
      "metadata": {
        "id": "view-in-github",
        "colab_type": "text"
      },
      "source": [
        "<a href=\"https://colab.research.google.com/github/darshank26/Linear_Algebra_for_ML/blob/main/15_matrix_multiplication.ipynb\" target=\"_parent\"><img src=\"https://colab.research.google.com/assets/colab-badge.svg\" alt=\"Open In Colab\"/></a>"
      ]
    },
    {
      "cell_type": "markdown",
      "source": [
        "#Matrix Multiplication with vector\n",
        "\n"
      ],
      "metadata": {
        "id": "5cDv0ElcwBKF"
      }
    },
    {
      "cell_type": "markdown",
      "source": [
        "#using numpy"
      ],
      "metadata": {
        "id": "-5pgYbgjwxTs"
      }
    },
    {
      "cell_type": "code",
      "execution_count": 4,
      "metadata": {
        "colab": {
          "base_uri": "https://localhost:8080/"
        },
        "id": "8IGzcKzsvxJv",
        "outputId": "ba08ba4f-2974-468d-dec0-42a850a597e7"
      },
      "outputs": [
        {
          "output_type": "execute_result",
          "data": {
            "text/plain": [
              "array([11, 17, 23])"
            ]
          },
          "metadata": {},
          "execution_count": 4
        }
      ],
      "source": [
        "import numpy as np\n",
        "\n",
        "A = np.array([[3,4],[5,6],[7,8]])\n",
        "\n",
        "B = np.array([1,2])\n",
        "\n",
        "np.dot(A,B)"
      ]
    },
    {
      "cell_type": "markdown",
      "source": [
        "#using pytorch"
      ],
      "metadata": {
        "id": "-B6dq4fhw14p"
      }
    },
    {
      "cell_type": "code",
      "source": [
        "import torch as py\n",
        "\n",
        "A = py.tensor([[3,4],[5,6],[7,8]])\n",
        "\n",
        "B = py.tensor([1,2])\n",
        "\n",
        "py.matmul(A,B)"
      ],
      "metadata": {
        "colab": {
          "base_uri": "https://localhost:8080/"
        },
        "id": "1Un0TsXUw4Nj",
        "outputId": "850b38b4-662e-45e5-b402-2e3be046c727"
      },
      "execution_count": 5,
      "outputs": [
        {
          "output_type": "execute_result",
          "data": {
            "text/plain": [
              "tensor([11, 17, 23])"
            ]
          },
          "metadata": {},
          "execution_count": 5
        }
      ]
    },
    {
      "cell_type": "markdown",
      "source": [
        "#using tensorflow"
      ],
      "metadata": {
        "id": "1CyLx6Y8xCaR"
      }
    },
    {
      "cell_type": "code",
      "source": [
        "import tensorflow as tf\n",
        "\n",
        "A = tf.Variable([[3,4],[5,6],[7,8]])\n",
        "\n",
        "B = tf.Variable([1,2])\n",
        "\n",
        "tf.linalg.matvec(A,B)"
      ],
      "metadata": {
        "colab": {
          "base_uri": "https://localhost:8080/"
        },
        "id": "iur67JbnxF7D",
        "outputId": "094dae90-a3b4-4835-cf19-56d016255410"
      },
      "execution_count": 6,
      "outputs": [
        {
          "output_type": "execute_result",
          "data": {
            "text/plain": [
              "<tf.Tensor: shape=(3,), dtype=int32, numpy=array([11, 17, 23], dtype=int32)>"
            ]
          },
          "metadata": {},
          "execution_count": 6
        }
      ]
    },
    {
      "cell_type": "markdown",
      "source": [
        "#Matrix Multiplication with matrix\n",
        "\n"
      ],
      "metadata": {
        "id": "UoThTpHPxfWy"
      }
    },
    {
      "cell_type": "markdown",
      "source": [
        "#using numpy"
      ],
      "metadata": {
        "id": "OBPO_TvOxhn2"
      }
    },
    {
      "cell_type": "code",
      "source": [
        "import numpy as np\n",
        "\n",
        "A = np.array([[3,4],[5,6],[7,8]])\n",
        "\n",
        "B = np.array([[1,9],[2,0]])\n",
        "\n",
        "np.dot(A,B)"
      ],
      "metadata": {
        "colab": {
          "base_uri": "https://localhost:8080/"
        },
        "id": "QxH6ikALxkhV",
        "outputId": "022cf8f5-33ec-4127-f02a-f6fb73b88094"
      },
      "execution_count": 7,
      "outputs": [
        {
          "output_type": "execute_result",
          "data": {
            "text/plain": [
              "array([[11, 27],\n",
              "       [17, 45],\n",
              "       [23, 63]])"
            ]
          },
          "metadata": {},
          "execution_count": 7
        }
      ]
    },
    {
      "cell_type": "code",
      "source": [
        "import torch as py\n",
        "\n",
        "A = py.tensor([[3,4],[5,6],[7,8]])\n",
        "\n",
        "B = py.tensor([[1,9],[2,0]])\n",
        "\n",
        "py.matmul(A,B)"
      ],
      "metadata": {
        "colab": {
          "base_uri": "https://localhost:8080/"
        },
        "id": "rgvVGwcnxxgx",
        "outputId": "f123d023-5620-4422-c818-e789dd52e0b0"
      },
      "execution_count": 8,
      "outputs": [
        {
          "output_type": "execute_result",
          "data": {
            "text/plain": [
              "tensor([[11, 27],\n",
              "        [17, 45],\n",
              "        [23, 63]])"
            ]
          },
          "metadata": {},
          "execution_count": 8
        }
      ]
    },
    {
      "cell_type": "code",
      "source": [
        "import tensorflow as tf\n",
        "\n",
        "A = tf.Variable([[3,4],[5,6],[7,8]])\n",
        "\n",
        "B = tf.Variable([[1,9],[2,0]])\n",
        "\n",
        "tf.matmul(A,B)"
      ],
      "metadata": {
        "colab": {
          "base_uri": "https://localhost:8080/"
        },
        "id": "qPCepGQ0x3fZ",
        "outputId": "6f968c3f-50af-4007-f69a-3e6a97a98170"
      },
      "execution_count": 11,
      "outputs": [
        {
          "output_type": "execute_result",
          "data": {
            "text/plain": [
              "<tf.Tensor: shape=(3, 2), dtype=int32, numpy=\n",
              "array([[11, 27],\n",
              "       [17, 45],\n",
              "       [23, 63]], dtype=int32)>"
            ]
          },
          "metadata": {},
          "execution_count": 11
        }
      ]
    }
  ]
}