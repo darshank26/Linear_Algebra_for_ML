{
  "nbformat": 4,
  "nbformat_minor": 0,
  "metadata": {
    "colab": {
      "provenance": [],
      "authorship_tag": "ABX9TyOlKDsbSWRBQMyMYcDF/noW",
      "include_colab_link": true
    },
    "kernelspec": {
      "name": "python3",
      "display_name": "Python 3"
    },
    "language_info": {
      "name": "python"
    }
  },
  "cells": [
    {
      "cell_type": "markdown",
      "metadata": {
        "id": "view-in-github",
        "colab_type": "text"
      },
      "source": [
        "<a href=\"https://colab.research.google.com/github/darshank26/Linear_Algebra_for_ML/blob/main/05_orthogonal_vectors.ipynb\" target=\"_parent\"><img src=\"https://colab.research.google.com/assets/colab-badge.svg\" alt=\"Open In Colab\"/></a>"
      ]
    },
    {
      "cell_type": "markdown",
      "source": [
        "#Orthogonal vectors"
      ],
      "metadata": {
        "id": "zFGwdIg4q2lI"
      }
    },
    {
      "cell_type": "markdown",
      "source": [
        "**What does orthogonal mean in vectors?**\n",
        "\n",
        "\n",
        "Roughly speaking, for a pair of vectors to be orthogonal means that they are perpendicular. More precisely, two vectors are said to be orthogonal if, and only if, their dot product equals zero."
      ],
      "metadata": {
        "id": "42l_4_6Zq4qV"
      }
    },
    {
      "cell_type": "code",
      "source": [
        "import numpy as np"
      ],
      "metadata": {
        "id": "KvgDwVwWrODF"
      },
      "execution_count": 1,
      "outputs": []
    },
    {
      "cell_type": "code",
      "source": [
        "i = np.array([1,0])\n",
        "\n",
        "j = np.array([0,1])"
      ],
      "metadata": {
        "id": "omWiLzFhrQkG"
      },
      "execution_count": 6,
      "outputs": []
    },
    {
      "cell_type": "code",
      "source": [
        "np.dot(i,j)"
      ],
      "metadata": {
        "colab": {
          "base_uri": "https://localhost:8080/"
        },
        "id": "Snan9lvRramd",
        "outputId": "bf17727b-b4ae-4c0e-dedb-5dabef036f2a"
      },
      "execution_count": 7,
      "outputs": [
        {
          "output_type": "execute_result",
          "data": {
            "text/plain": [
              "0"
            ]
          },
          "metadata": {},
          "execution_count": 7
        }
      ]
    }
  ]
}